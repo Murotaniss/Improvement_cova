{
 "cells": [
  {
   "cell_type": "code",
   "execution_count": 1,
   "metadata": {},
   "outputs": [],
   "source": [
    "import pandas as pd\n",
    "import os\n",
    "import pandas as pd\n",
    "import re\n",
    "from datetime import datetime, timedelta\n",
    "import requests"
   ]
  },
  {
   "cell_type": "code",
   "execution_count": 2,
   "metadata": {},
   "outputs": [
    {
     "name": "stderr",
     "output_type": "stream",
     "text": [
      "/anaconda3/lib/python3.7/site-packages/ipykernel_launcher.py:3: FutureWarning: read_table is deprecated, use read_csv instead, passing sep='\\t'.\n",
      "  This is separate from the ipykernel package so we can avoid doing imports until\n"
     ]
    },
    {
     "data": {
      "application/javascript": [
       "\n",
       "            setTimeout(function() {\n",
       "                var nbb_cell_id = 2;\n",
       "                var nbb_unformatted_code = \"# \\u30c7\\u30fc\\u30bf\\u8aad\\u307f\\u8fbc\\u307f\\n%load_ext nb_black\\ndf = pd.read_table(\\\"../data/imp_clk_cv.tsv\\\")\";\n",
       "                var nbb_formatted_code = \"# \\u30c7\\u30fc\\u30bf\\u8aad\\u307f\\u8fbc\\u307f\\n%load_ext nb_black\\ndf = pd.read_table(\\\"../data/imp_clk_cv.tsv\\\")\";\n",
       "                var nbb_cells = Jupyter.notebook.get_cells();\n",
       "                for (var i = 0; i < nbb_cells.length; ++i) {\n",
       "                    if (nbb_cells[i].input_prompt_number == nbb_cell_id) {\n",
       "                        if (nbb_cells[i].get_text() == nbb_unformatted_code) {\n",
       "                             nbb_cells[i].set_text(nbb_formatted_code);\n",
       "                        }\n",
       "                        break;\n",
       "                    }\n",
       "                }\n",
       "            }, 500);\n",
       "            "
      ],
      "text/plain": [
       "<IPython.core.display.Javascript object>"
      ]
     },
     "metadata": {},
     "output_type": "display_data"
    }
   ],
   "source": [
    "# データ読み込み\n",
    "%load_ext nb_black\n",
    "df = pd.read_table(\"../data/imp_clk_cv.tsv\")"
   ]
  },
  {
   "cell_type": "markdown",
   "metadata": {},
   "source": [
    "* sparkコード\n",
    "\n",
    "`df_cl = suppon_df.filter(col('action') == 'click')`\n",
    "\n",
    "`df_imp = suppon_df.filter(col('action') == 'impression')`"
   ]
  },
  {
   "cell_type": "code",
   "execution_count": 3,
   "metadata": {},
   "outputs": [
    {
     "data": {
      "application/javascript": [
       "\n",
       "            setTimeout(function() {\n",
       "                var nbb_cell_id = 3;\n",
       "                var nbb_unformatted_code = \"# click\\u3068impression\\u3067\\u30c7\\u30fc\\u30bf\\u3092\\u5206\\u3051\\u308b\\ndf_cl = df[df[\\\"action\\\"] == \\\"click\\\"]\\ndf_imp = df[df[\\\"action\\\"] == \\\"impression\\\"]\";\n",
       "                var nbb_formatted_code = \"# click\\u3068impression\\u3067\\u30c7\\u30fc\\u30bf\\u3092\\u5206\\u3051\\u308b\\ndf_cl = df[df[\\\"action\\\"] == \\\"click\\\"]\\ndf_imp = df[df[\\\"action\\\"] == \\\"impression\\\"]\";\n",
       "                var nbb_cells = Jupyter.notebook.get_cells();\n",
       "                for (var i = 0; i < nbb_cells.length; ++i) {\n",
       "                    if (nbb_cells[i].input_prompt_number == nbb_cell_id) {\n",
       "                        if (nbb_cells[i].get_text() == nbb_unformatted_code) {\n",
       "                             nbb_cells[i].set_text(nbb_formatted_code);\n",
       "                        }\n",
       "                        break;\n",
       "                    }\n",
       "                }\n",
       "            }, 500);\n",
       "            "
      ],
      "text/plain": [
       "<IPython.core.display.Javascript object>"
      ]
     },
     "metadata": {},
     "output_type": "display_data"
    }
   ],
   "source": [
    "# clickとimpressionでデータを分ける\n",
    "df_cl = df[df[\"action\"] == \"click\"]\n",
    "df_imp = df[df[\"action\"] == \"impression\"]"
   ]
  },
  {
   "cell_type": "code",
   "execution_count": 4,
   "metadata": {},
   "outputs": [
    {
     "name": "stdout",
     "output_type": "stream",
     "text": [
      "以前のノートブックdf_clのcount数 : 1236 df_clのcount数 :  1257\n",
      "以前のノートブックdf_impのcount数 : 1236 df_impのcount数 :  1134928\n"
     ]
    },
    {
     "data": {
      "application/javascript": [
       "\n",
       "            setTimeout(function() {\n",
       "                var nbb_cell_id = 4;\n",
       "                var nbb_unformatted_code = \"# \\u6570\\u30c1\\u30a7\\u30c3\\u30af\\nprint(\\\"\\u4ee5\\u524d\\u306e\\u30ce\\u30fc\\u30c8\\u30d6\\u30c3\\u30afdf_cl\\u306ecount\\u6570 : 1236\\\", \\\"df_cl\\u306ecount\\u6570 : \\\", len(df_cl))\\nprint(\\\"\\u4ee5\\u524d\\u306e\\u30ce\\u30fc\\u30c8\\u30d6\\u30c3\\u30afdf_imp\\u306ecount\\u6570 : 1236\\\", \\\"df_imp\\u306ecount\\u6570 : \\\", len(df_imp))\";\n",
       "                var nbb_formatted_code = \"# \\u6570\\u30c1\\u30a7\\u30c3\\u30af\\nprint(\\\"\\u4ee5\\u524d\\u306e\\u30ce\\u30fc\\u30c8\\u30d6\\u30c3\\u30afdf_cl\\u306ecount\\u6570 : 1236\\\", \\\"df_cl\\u306ecount\\u6570 : \\\", len(df_cl))\\nprint(\\\"\\u4ee5\\u524d\\u306e\\u30ce\\u30fc\\u30c8\\u30d6\\u30c3\\u30afdf_imp\\u306ecount\\u6570 : 1236\\\", \\\"df_imp\\u306ecount\\u6570 : \\\", len(df_imp))\";\n",
       "                var nbb_cells = Jupyter.notebook.get_cells();\n",
       "                for (var i = 0; i < nbb_cells.length; ++i) {\n",
       "                    if (nbb_cells[i].input_prompt_number == nbb_cell_id) {\n",
       "                        if (nbb_cells[i].get_text() == nbb_unformatted_code) {\n",
       "                             nbb_cells[i].set_text(nbb_formatted_code);\n",
       "                        }\n",
       "                        break;\n",
       "                    }\n",
       "                }\n",
       "            }, 500);\n",
       "            "
      ],
      "text/plain": [
       "<IPython.core.display.Javascript object>"
      ]
     },
     "metadata": {},
     "output_type": "display_data"
    }
   ],
   "source": [
    "# 数チェック\n",
    "print(\"以前のノートブックdf_clのcount数 : 1236\", \"df_clのcount数 : \", len(df_cl))\n",
    "print(\"以前のノートブックdf_impのcount数 : 1236\", \"df_impのcount数 : \", len(df_imp))"
   ]
  },
  {
   "cell_type": "markdown",
   "metadata": {},
   "source": [
    "* sparkコード\n",
    "\n",
    "`df_nega = df_imp.join(df_cl, df_imp.uuid == df_cl.uuid , 'left_anti')`"
   ]
  },
  {
   "cell_type": "code",
   "execution_count": 5,
   "metadata": {},
   "outputs": [
    {
     "data": {
      "application/javascript": [
       "\n",
       "            setTimeout(function() {\n",
       "                var nbb_cell_id = 5;\n",
       "                var nbb_unformatted_code = \"outer_df = pd.merge(df_cl, df_imp[[\\\"uuid\\\"]], on=\\\"uuid\\\", how=\\\"outer\\\", indicator=True)\\ndf_nega = outer_df[outer_df[\\\"_merge\\\"] == \\\"right_only\\\"].drop(\\\"_merge\\\", 1)\";\n",
       "                var nbb_formatted_code = \"outer_df = pd.merge(df_cl, df_imp[[\\\"uuid\\\"]], on=\\\"uuid\\\", how=\\\"outer\\\", indicator=True)\\ndf_nega = outer_df[outer_df[\\\"_merge\\\"] == \\\"right_only\\\"].drop(\\\"_merge\\\", 1)\";\n",
       "                var nbb_cells = Jupyter.notebook.get_cells();\n",
       "                for (var i = 0; i < nbb_cells.length; ++i) {\n",
       "                    if (nbb_cells[i].input_prompt_number == nbb_cell_id) {\n",
       "                        if (nbb_cells[i].get_text() == nbb_unformatted_code) {\n",
       "                             nbb_cells[i].set_text(nbb_formatted_code);\n",
       "                        }\n",
       "                        break;\n",
       "                    }\n",
       "                }\n",
       "            }, 500);\n",
       "            "
      ],
      "text/plain": [
       "<IPython.core.display.Javascript object>"
      ]
     },
     "metadata": {},
     "output_type": "display_data"
    }
   ],
   "source": [
    "outer_df = pd.merge(df_cl, df_imp[[\"uuid\"]], on=\"uuid\", how=\"outer\", indicator=True)\n",
    "df_nega = outer_df[outer_df[\"_merge\"] == \"right_only\"].drop(\"_merge\", 1)"
   ]
  },
  {
   "cell_type": "code",
   "execution_count": 6,
   "metadata": {},
   "outputs": [
    {
     "data": {
      "text/plain": [
       "35810"
      ]
     },
     "execution_count": 6,
     "metadata": {},
     "output_type": "execute_result"
    },
    {
     "data": {
      "application/javascript": [
       "\n",
       "            setTimeout(function() {\n",
       "                var nbb_cell_id = 6;\n",
       "                var nbb_unformatted_code = \"len(outer_df[outer_df[\\\"_merge\\\"] == \\\"both\\\"])\";\n",
       "                var nbb_formatted_code = \"len(outer_df[outer_df[\\\"_merge\\\"] == \\\"both\\\"])\";\n",
       "                var nbb_cells = Jupyter.notebook.get_cells();\n",
       "                for (var i = 0; i < nbb_cells.length; ++i) {\n",
       "                    if (nbb_cells[i].input_prompt_number == nbb_cell_id) {\n",
       "                        if (nbb_cells[i].get_text() == nbb_unformatted_code) {\n",
       "                             nbb_cells[i].set_text(nbb_formatted_code);\n",
       "                        }\n",
       "                        break;\n",
       "                    }\n",
       "                }\n",
       "            }, 500);\n",
       "            "
      ],
      "text/plain": [
       "<IPython.core.display.Javascript object>"
      ]
     },
     "metadata": {},
     "output_type": "display_data"
    }
   ],
   "source": [
    "len(outer_df[outer_df[\"_merge\"] == \"both\"])"
   ]
  },
  {
   "cell_type": "code",
   "execution_count": 7,
   "metadata": {},
   "outputs": [
    {
     "data": {
      "text/plain": [
       "405"
      ]
     },
     "execution_count": 7,
     "metadata": {},
     "output_type": "execute_result"
    },
    {
     "data": {
      "application/javascript": [
       "\n",
       "            setTimeout(function() {\n",
       "                var nbb_cell_id = 7;\n",
       "                var nbb_unformatted_code = \"len(outer_df[outer_df[\\\"_merge\\\"] == \\\"left_only\\\"])\";\n",
       "                var nbb_formatted_code = \"len(outer_df[outer_df[\\\"_merge\\\"] == \\\"left_only\\\"])\";\n",
       "                var nbb_cells = Jupyter.notebook.get_cells();\n",
       "                for (var i = 0; i < nbb_cells.length; ++i) {\n",
       "                    if (nbb_cells[i].input_prompt_number == nbb_cell_id) {\n",
       "                        if (nbb_cells[i].get_text() == nbb_unformatted_code) {\n",
       "                             nbb_cells[i].set_text(nbb_formatted_code);\n",
       "                        }\n",
       "                        break;\n",
       "                    }\n",
       "                }\n",
       "            }, 500);\n",
       "            "
      ],
      "text/plain": [
       "<IPython.core.display.Javascript object>"
      ]
     },
     "metadata": {},
     "output_type": "display_data"
    }
   ],
   "source": [
    "len(outer_df[outer_df[\"_merge\"] == \"left_only\"])"
   ]
  },
  {
   "cell_type": "code",
   "execution_count": 8,
   "metadata": {},
   "outputs": [
    {
     "data": {
      "text/plain": [
       "1102667"
      ]
     },
     "execution_count": 8,
     "metadata": {},
     "output_type": "execute_result"
    },
    {
     "data": {
      "application/javascript": [
       "\n",
       "            setTimeout(function() {\n",
       "                var nbb_cell_id = 8;\n",
       "                var nbb_unformatted_code = \"len(outer_df[outer_df[\\\"_merge\\\"] == \\\"right_only\\\"])\";\n",
       "                var nbb_formatted_code = \"len(outer_df[outer_df[\\\"_merge\\\"] == \\\"right_only\\\"])\";\n",
       "                var nbb_cells = Jupyter.notebook.get_cells();\n",
       "                for (var i = 0; i < nbb_cells.length; ++i) {\n",
       "                    if (nbb_cells[i].input_prompt_number == nbb_cell_id) {\n",
       "                        if (nbb_cells[i].get_text() == nbb_unformatted_code) {\n",
       "                             nbb_cells[i].set_text(nbb_formatted_code);\n",
       "                        }\n",
       "                        break;\n",
       "                    }\n",
       "                }\n",
       "            }, 500);\n",
       "            "
      ],
      "text/plain": [
       "<IPython.core.display.Javascript object>"
      ]
     },
     "metadata": {},
     "output_type": "display_data"
    }
   ],
   "source": [
    "len(outer_df[outer_df[\"_merge\"] == \"right_only\"])"
   ]
  },
  {
   "cell_type": "markdown",
   "metadata": {},
   "source": [
    "* spark_code\n",
    "\n",
    "`def make_data_for_autogenerate_segment(df_input):\n",
    "  df_cl = df_input.filter(col('action') == 'click')\n",
    "  df_imp = df_input.filter(col('action') == 'impression')\n",
    "  df_nega = df_imp.join(df_cl, df_imp.uuid == df_cl.uuid , 'left_anti')`\n",
    "  \n",
    "  `df_posi_renamed = df_cl.select('uuid','dt').distinct()\\\n",
    "  .withColumn('label', lit('target')).withColumn('user_id', col('uuid')).withColumn('cookie_id', col('uuid')).withColumnRenamed('dt','target_date')\n",
    "  df_posi_for_dsic = df_posi_renamed.select('user_id','cookie_id','target_date','label')`\n",
    "  \n",
    "  `df_nega_renamed = df_nega.select('uuid','dt')\\\n",
    "  .withColumn('user_id',col('uuid')).withColumn('cookie_id',col('uuid')).withColumn('label',lit('non_target')).withColumnRenamed('dt','target_date')\n",
    "  df_nega_for_dsic = df_nega_renamed.select('user_id','cookie_id','target_date','label')`\n",
    "  \n",
    "  `return df_posi_for_dsic,df_nega_for_dsic`"
   ]
  },
  {
   "cell_type": "code",
   "execution_count": 9,
   "metadata": {},
   "outputs": [
    {
     "data": {
      "application/javascript": [
       "\n",
       "            setTimeout(function() {\n",
       "                var nbb_cell_id = 9;\n",
       "                var nbb_unformatted_code = \"def make_data_for_autogenerate_segment(df_input):\\n    df_cl = df_input[df_input[\\\"action\\\"].isin([\\\"click\\\", \\\"click_cv\\\"])]\\n    df_imp = df_input[df_input[\\\"action\\\"].isin([\\\"click_cv\\\"])]\\n\\n    outer_df = pd.merge(df_cl[\\\"uuid\\\"], df_imp, on=\\\"uuid\\\", how=\\\"outer\\\", indicator=True)\\n    df_nega = outer_df[outer_df[\\\"_merge\\\"] == \\\"right_only\\\"].drop(\\\"_merge\\\", 1)\\n\\n    # uuid\\u3068dt\\u5148\\u306b\\u53d6\\u308a\\u51fa\\u3057\\n    df_cl_uuid_dt = df_cl[[\\\"uuid\\\", \\\"dt\\\"]]\\n\\n    df_posi_for_dsic = (\\n        df_cl_uuid_dt[~df_cl_uuid_dt.duplicated()]\\n        .assign(label=\\\"target\\\", user_id=df_cl[\\\"uuid\\\"])\\n        .rename(columns={\\\"dt\\\": \\\"target_date\\\", \\\"uuid\\\": \\\"cookie_id\\\"})[\\n            [\\\"user_id\\\", \\\"cookie_id\\\", \\\"target_date\\\", \\\"label\\\"]\\n        ]\\n    )\\n\\n    # uuid\\u3068dt\\u5148\\u306b\\u53d6\\u308a\\u51fa\\u3057\\n    df_nega_uuid_dt = df_nega[[\\\"uuid\\\", \\\"dt\\\"]]\\n\\n    df_nega_for_dsic = (\\n        df_nega_uuid_dt[~df_nega_uuid_dt.duplicated()]\\n        .assign(label=\\\"non_target\\\", user_id=df_nega[\\\"uuid\\\"])\\n        .rename(columns={\\\"dt\\\": \\\"target_date\\\", \\\"uuid\\\": \\\"cookie_id\\\"})[\\n            [\\\"user_id\\\", \\\"cookie_id\\\", \\\"target_date\\\", \\\"label\\\"]\\n        ]\\n    )\\n\\n    return df_posi_for_dsic, df_nega_for_dsic\";\n",
       "                var nbb_formatted_code = \"def make_data_for_autogenerate_segment(df_input):\\n    df_cl = df_input[df_input[\\\"action\\\"].isin([\\\"click\\\", \\\"click_cv\\\"])]\\n    df_imp = df_input[df_input[\\\"action\\\"].isin([\\\"click_cv\\\"])]\\n\\n    outer_df = pd.merge(df_cl[\\\"uuid\\\"], df_imp, on=\\\"uuid\\\", how=\\\"outer\\\", indicator=True)\\n    df_nega = outer_df[outer_df[\\\"_merge\\\"] == \\\"right_only\\\"].drop(\\\"_merge\\\", 1)\\n\\n    # uuid\\u3068dt\\u5148\\u306b\\u53d6\\u308a\\u51fa\\u3057\\n    df_cl_uuid_dt = df_cl[[\\\"uuid\\\", \\\"dt\\\"]]\\n\\n    df_posi_for_dsic = (\\n        df_cl_uuid_dt[~df_cl_uuid_dt.duplicated()]\\n        .assign(label=\\\"target\\\", user_id=df_cl[\\\"uuid\\\"])\\n        .rename(columns={\\\"dt\\\": \\\"target_date\\\", \\\"uuid\\\": \\\"cookie_id\\\"})[\\n            [\\\"user_id\\\", \\\"cookie_id\\\", \\\"target_date\\\", \\\"label\\\"]\\n        ]\\n    )\\n\\n    # uuid\\u3068dt\\u5148\\u306b\\u53d6\\u308a\\u51fa\\u3057\\n    df_nega_uuid_dt = df_nega[[\\\"uuid\\\", \\\"dt\\\"]]\\n\\n    df_nega_for_dsic = (\\n        df_nega_uuid_dt[~df_nega_uuid_dt.duplicated()]\\n        .assign(label=\\\"non_target\\\", user_id=df_nega[\\\"uuid\\\"])\\n        .rename(columns={\\\"dt\\\": \\\"target_date\\\", \\\"uuid\\\": \\\"cookie_id\\\"})[\\n            [\\\"user_id\\\", \\\"cookie_id\\\", \\\"target_date\\\", \\\"label\\\"]\\n        ]\\n    )\\n\\n    return df_posi_for_dsic, df_nega_for_dsic\";\n",
       "                var nbb_cells = Jupyter.notebook.get_cells();\n",
       "                for (var i = 0; i < nbb_cells.length; ++i) {\n",
       "                    if (nbb_cells[i].input_prompt_number == nbb_cell_id) {\n",
       "                        if (nbb_cells[i].get_text() == nbb_unformatted_code) {\n",
       "                             nbb_cells[i].set_text(nbb_formatted_code);\n",
       "                        }\n",
       "                        break;\n",
       "                    }\n",
       "                }\n",
       "            }, 500);\n",
       "            "
      ],
      "text/plain": [
       "<IPython.core.display.Javascript object>"
      ]
     },
     "metadata": {},
     "output_type": "display_data"
    }
   ],
   "source": [
    "def make_data_for_autogenerate_segment(df_input):\n",
    "    df_cl = df_input[df_input[\"action\"].isin([\"click\", \"click_cv\"])]\n",
    "    df_imp = df_input[df_input[\"action\"].isin([\"click_cv\"])]\n",
    "\n",
    "    outer_df = pd.merge(df_cl[\"uuid\"], df_imp, on=\"uuid\", how=\"outer\", indicator=True)\n",
    "    df_nega = outer_df[outer_df[\"_merge\"] == \"right_only\"].drop(\"_merge\", 1)\n",
    "\n",
    "    # uuidとdt先に取り出し\n",
    "    df_cl_uuid_dt = df_cl[[\"uuid\", \"dt\"]]\n",
    "\n",
    "    df_posi_for_dsic = (\n",
    "        df_cl_uuid_dt[~df_cl_uuid_dt.duplicated()]\n",
    "        .assign(label=\"target\", user_id=df_cl[\"uuid\"])\n",
    "        .rename(columns={\"dt\": \"target_date\", \"uuid\": \"cookie_id\"})[\n",
    "            [\"user_id\", \"cookie_id\", \"target_date\", \"label\"]\n",
    "        ]\n",
    "    )\n",
    "\n",
    "    # uuidとdt先に取り出し\n",
    "    df_nega_uuid_dt = df_nega[[\"uuid\", \"dt\"]]\n",
    "\n",
    "    df_nega_for_dsic = (\n",
    "        df_nega_uuid_dt[~df_nega_uuid_dt.duplicated()]\n",
    "        .assign(label=\"non_target\", user_id=df_nega[\"uuid\"])\n",
    "        .rename(columns={\"dt\": \"target_date\", \"uuid\": \"cookie_id\"})[\n",
    "            [\"user_id\", \"cookie_id\", \"target_date\", \"label\"]\n",
    "        ]\n",
    "    )\n",
    "\n",
    "    return df_posi_for_dsic, df_nega_for_dsic"
   ]
  },
  {
   "cell_type": "markdown",
   "metadata": {},
   "source": [
    "* spark_code\n",
    "\n",
    "`df_posi,df_nega = make_data_for_autogenerate_segment(suppon_df)`"
   ]
  },
  {
   "cell_type": "code",
   "execution_count": 10,
   "metadata": {},
   "outputs": [
    {
     "data": {
      "application/javascript": [
       "\n",
       "            setTimeout(function() {\n",
       "                var nbb_cell_id = 10;\n",
       "                var nbb_unformatted_code = \"df_posi, df_nega = make_data_for_autogenerate_segment(df)\";\n",
       "                var nbb_formatted_code = \"df_posi, df_nega = make_data_for_autogenerate_segment(df)\";\n",
       "                var nbb_cells = Jupyter.notebook.get_cells();\n",
       "                for (var i = 0; i < nbb_cells.length; ++i) {\n",
       "                    if (nbb_cells[i].input_prompt_number == nbb_cell_id) {\n",
       "                        if (nbb_cells[i].get_text() == nbb_unformatted_code) {\n",
       "                             nbb_cells[i].set_text(nbb_formatted_code);\n",
       "                        }\n",
       "                        break;\n",
       "                    }\n",
       "                }\n",
       "            }, 500);\n",
       "            "
      ],
      "text/plain": [
       "<IPython.core.display.Javascript object>"
      ]
     },
     "metadata": {},
     "output_type": "display_data"
    }
   ],
   "source": [
    "df_posi, df_nega = make_data_for_autogenerate_segment(df)"
   ]
  },
  {
   "cell_type": "code",
   "execution_count": 11,
   "metadata": {},
   "outputs": [
    {
     "data": {
      "text/html": [
       "<div>\n",
       "<style scoped>\n",
       "    .dataframe tbody tr th:only-of-type {\n",
       "        vertical-align: middle;\n",
       "    }\n",
       "\n",
       "    .dataframe tbody tr th {\n",
       "        vertical-align: top;\n",
       "    }\n",
       "\n",
       "    .dataframe thead th {\n",
       "        text-align: right;\n",
       "    }\n",
       "</style>\n",
       "<table border=\"1\" class=\"dataframe\">\n",
       "  <thead>\n",
       "    <tr style=\"text-align: right;\">\n",
       "      <th></th>\n",
       "      <th>user_id</th>\n",
       "      <th>cookie_id</th>\n",
       "      <th>target_date</th>\n",
       "      <th>label</th>\n",
       "    </tr>\n",
       "  </thead>\n",
       "  <tbody>\n",
       "    <tr>\n",
       "      <th>0</th>\n",
       "      <td>XGe528Co8XMAAvZcO5AAAAAA</td>\n",
       "      <td>XGe528Co8XMAAvZcO5AAAAAA</td>\n",
       "      <td>20200321</td>\n",
       "      <td>target</td>\n",
       "    </tr>\n",
       "    <tr>\n",
       "      <th>11</th>\n",
       "      <td>Xkz1Q8Co5sMAAH4CtyQAAAAA</td>\n",
       "      <td>Xkz1Q8Co5sMAAH4CtyQAAAAA</td>\n",
       "      <td>20200412</td>\n",
       "      <td>target</td>\n",
       "    </tr>\n",
       "    <tr>\n",
       "      <th>12</th>\n",
       "      <td>XJcyoMCo5g8AAE0rY9cAAAAA</td>\n",
       "      <td>XJcyoMCo5g8AAE0rY9cAAAAA</td>\n",
       "      <td>20200406</td>\n",
       "      <td>target</td>\n",
       "    </tr>\n",
       "    <tr>\n",
       "      <th>17</th>\n",
       "      <td>W-JU3MCo4U4AAEaBNiYAAAAA</td>\n",
       "      <td>W-JU3MCo4U4AAEaBNiYAAAAA</td>\n",
       "      <td>20200417</td>\n",
       "      <td>target</td>\n",
       "    </tr>\n",
       "    <tr>\n",
       "      <th>18</th>\n",
       "      <td>XR8yKcCo5l4AACRJ3NoAAAAA</td>\n",
       "      <td>XR8yKcCo5l4AACRJ3NoAAAAA</td>\n",
       "      <td>20200320</td>\n",
       "      <td>target</td>\n",
       "    </tr>\n",
       "  </tbody>\n",
       "</table>\n",
       "</div>"
      ],
      "text/plain": [
       "                     user_id                 cookie_id  target_date   label\n",
       "0   XGe528Co8XMAAvZcO5AAAAAA  XGe528Co8XMAAvZcO5AAAAAA     20200321  target\n",
       "11  Xkz1Q8Co5sMAAH4CtyQAAAAA  Xkz1Q8Co5sMAAH4CtyQAAAAA     20200412  target\n",
       "12  XJcyoMCo5g8AAE0rY9cAAAAA  XJcyoMCo5g8AAE0rY9cAAAAA     20200406  target\n",
       "17  W-JU3MCo4U4AAEaBNiYAAAAA  W-JU3MCo4U4AAEaBNiYAAAAA     20200417  target\n",
       "18  XR8yKcCo5l4AACRJ3NoAAAAA  XR8yKcCo5l4AACRJ3NoAAAAA     20200320  target"
      ]
     },
     "execution_count": 11,
     "metadata": {},
     "output_type": "execute_result"
    },
    {
     "data": {
      "application/javascript": [
       "\n",
       "            setTimeout(function() {\n",
       "                var nbb_cell_id = 11;\n",
       "                var nbb_unformatted_code = \"df_posi.head()\";\n",
       "                var nbb_formatted_code = \"df_posi.head()\";\n",
       "                var nbb_cells = Jupyter.notebook.get_cells();\n",
       "                for (var i = 0; i < nbb_cells.length; ++i) {\n",
       "                    if (nbb_cells[i].input_prompt_number == nbb_cell_id) {\n",
       "                        if (nbb_cells[i].get_text() == nbb_unformatted_code) {\n",
       "                             nbb_cells[i].set_text(nbb_formatted_code);\n",
       "                        }\n",
       "                        break;\n",
       "                    }\n",
       "                }\n",
       "            }, 500);\n",
       "            "
      ],
      "text/plain": [
       "<IPython.core.display.Javascript object>"
      ]
     },
     "metadata": {},
     "output_type": "display_data"
    }
   ],
   "source": [
    "df_posi.head()"
   ]
  },
  {
   "cell_type": "code",
   "execution_count": 12,
   "metadata": {},
   "outputs": [
    {
     "data": {
      "text/html": [
       "<div>\n",
       "<style scoped>\n",
       "    .dataframe tbody tr th:only-of-type {\n",
       "        vertical-align: middle;\n",
       "    }\n",
       "\n",
       "    .dataframe tbody tr th {\n",
       "        vertical-align: top;\n",
       "    }\n",
       "\n",
       "    .dataframe thead th {\n",
       "        text-align: right;\n",
       "    }\n",
       "</style>\n",
       "<table border=\"1\" class=\"dataframe\">\n",
       "  <thead>\n",
       "    <tr style=\"text-align: right;\">\n",
       "      <th></th>\n",
       "      <th>user_id</th>\n",
       "      <th>cookie_id</th>\n",
       "      <th>target_date</th>\n",
       "      <th>label</th>\n",
       "    </tr>\n",
       "  </thead>\n",
       "  <tbody>\n",
       "  </tbody>\n",
       "</table>\n",
       "</div>"
      ],
      "text/plain": [
       "Empty DataFrame\n",
       "Columns: [user_id, cookie_id, target_date, label]\n",
       "Index: []"
      ]
     },
     "execution_count": 12,
     "metadata": {},
     "output_type": "execute_result"
    },
    {
     "data": {
      "application/javascript": [
       "\n",
       "            setTimeout(function() {\n",
       "                var nbb_cell_id = 12;\n",
       "                var nbb_unformatted_code = \"df_nega.head()\";\n",
       "                var nbb_formatted_code = \"df_nega.head()\";\n",
       "                var nbb_cells = Jupyter.notebook.get_cells();\n",
       "                for (var i = 0; i < nbb_cells.length; ++i) {\n",
       "                    if (nbb_cells[i].input_prompt_number == nbb_cell_id) {\n",
       "                        if (nbb_cells[i].get_text() == nbb_unformatted_code) {\n",
       "                             nbb_cells[i].set_text(nbb_formatted_code);\n",
       "                        }\n",
       "                        break;\n",
       "                    }\n",
       "                }\n",
       "            }, 500);\n",
       "            "
      ],
      "text/plain": [
       "<IPython.core.display.Javascript object>"
      ]
     },
     "metadata": {},
     "output_type": "display_data"
    }
   ],
   "source": [
    "df_nega.head()"
   ]
  },
  {
   "cell_type": "code",
   "execution_count": 13,
   "metadata": {},
   "outputs": [
    {
     "data": {
      "text/plain": [
       "user_id        False\n",
       "cookie_id      False\n",
       "target_date    False\n",
       "label          False\n",
       "dtype: bool"
      ]
     },
     "execution_count": 13,
     "metadata": {},
     "output_type": "execute_result"
    },
    {
     "data": {
      "application/javascript": [
       "\n",
       "            setTimeout(function() {\n",
       "                var nbb_cell_id = 13;\n",
       "                var nbb_unformatted_code = \"df_posi.isnull().any()\";\n",
       "                var nbb_formatted_code = \"df_posi.isnull().any()\";\n",
       "                var nbb_cells = Jupyter.notebook.get_cells();\n",
       "                for (var i = 0; i < nbb_cells.length; ++i) {\n",
       "                    if (nbb_cells[i].input_prompt_number == nbb_cell_id) {\n",
       "                        if (nbb_cells[i].get_text() == nbb_unformatted_code) {\n",
       "                             nbb_cells[i].set_text(nbb_formatted_code);\n",
       "                        }\n",
       "                        break;\n",
       "                    }\n",
       "                }\n",
       "            }, 500);\n",
       "            "
      ],
      "text/plain": [
       "<IPython.core.display.Javascript object>"
      ]
     },
     "metadata": {},
     "output_type": "display_data"
    }
   ],
   "source": [
    "df_posi.isnull().any()"
   ]
  },
  {
   "cell_type": "code",
   "execution_count": 14,
   "metadata": {},
   "outputs": [
    {
     "data": {
      "text/plain": [
       "user_id        False\n",
       "cookie_id      False\n",
       "target_date    False\n",
       "label          False\n",
       "dtype: bool"
      ]
     },
     "execution_count": 14,
     "metadata": {},
     "output_type": "execute_result"
    },
    {
     "data": {
      "application/javascript": [
       "\n",
       "            setTimeout(function() {\n",
       "                var nbb_cell_id = 14;\n",
       "                var nbb_unformatted_code = \"df_nega.isnull().any()\";\n",
       "                var nbb_formatted_code = \"df_nega.isnull().any()\";\n",
       "                var nbb_cells = Jupyter.notebook.get_cells();\n",
       "                for (var i = 0; i < nbb_cells.length; ++i) {\n",
       "                    if (nbb_cells[i].input_prompt_number == nbb_cell_id) {\n",
       "                        if (nbb_cells[i].get_text() == nbb_unformatted_code) {\n",
       "                             nbb_cells[i].set_text(nbb_formatted_code);\n",
       "                        }\n",
       "                        break;\n",
       "                    }\n",
       "                }\n",
       "            }, 500);\n",
       "            "
      ],
      "text/plain": [
       "<IPython.core.display.Javascript object>"
      ]
     },
     "metadata": {},
     "output_type": "display_data"
    }
   ],
   "source": [
    "df_nega.isnull().any()"
   ]
  },
  {
   "cell_type": "code",
   "execution_count": 15,
   "metadata": {},
   "outputs": [
    {
     "data": {
      "text/plain": [
       "0"
      ]
     },
     "execution_count": 15,
     "metadata": {},
     "output_type": "execute_result"
    },
    {
     "data": {
      "application/javascript": [
       "\n",
       "            setTimeout(function() {\n",
       "                var nbb_cell_id = 15;\n",
       "                var nbb_unformatted_code = \"len(df_nega)\";\n",
       "                var nbb_formatted_code = \"len(df_nega)\";\n",
       "                var nbb_cells = Jupyter.notebook.get_cells();\n",
       "                for (var i = 0; i < nbb_cells.length; ++i) {\n",
       "                    if (nbb_cells[i].input_prompt_number == nbb_cell_id) {\n",
       "                        if (nbb_cells[i].get_text() == nbb_unformatted_code) {\n",
       "                             nbb_cells[i].set_text(nbb_formatted_code);\n",
       "                        }\n",
       "                        break;\n",
       "                    }\n",
       "                }\n",
       "            }, 500);\n",
       "            "
      ],
      "text/plain": [
       "<IPython.core.display.Javascript object>"
      ]
     },
     "metadata": {},
     "output_type": "display_data"
    }
   ],
   "source": [
    "len(df_nega)"
   ]
  },
  {
   "cell_type": "code",
   "execution_count": 16,
   "metadata": {},
   "outputs": [
    {
     "data": {
      "text/plain": [
       "1236"
      ]
     },
     "execution_count": 16,
     "metadata": {},
     "output_type": "execute_result"
    },
    {
     "data": {
      "application/javascript": [
       "\n",
       "            setTimeout(function() {\n",
       "                var nbb_cell_id = 16;\n",
       "                var nbb_unformatted_code = \"len(df_posi)\";\n",
       "                var nbb_formatted_code = \"len(df_posi)\";\n",
       "                var nbb_cells = Jupyter.notebook.get_cells();\n",
       "                for (var i = 0; i < nbb_cells.length; ++i) {\n",
       "                    if (nbb_cells[i].input_prompt_number == nbb_cell_id) {\n",
       "                        if (nbb_cells[i].get_text() == nbb_unformatted_code) {\n",
       "                             nbb_cells[i].set_text(nbb_formatted_code);\n",
       "                        }\n",
       "                        break;\n",
       "                    }\n",
       "                }\n",
       "            }, 500);\n",
       "            "
      ],
      "text/plain": [
       "<IPython.core.display.Javascript object>"
      ]
     },
     "metadata": {},
     "output_type": "display_data"
    }
   ],
   "source": [
    "len(df_posi)"
   ]
  },
  {
   "cell_type": "markdown",
   "metadata": {},
   "source": [
    "# for cova"
   ]
  },
  {
   "cell_type": "markdown",
   "metadata": {},
   "source": [
    "* spark_code\n",
    "\n",
    "`fortuna_df = seed_df\\\n",
    "                    .select('uuid')\\\n",
    "                    .withColumnRenamed('uuid', 'so_uuid')\\\n",
    "                    .withColumn('uuid', cut_id_type(col('so_uuid')))\\\n",
    "                    .withColumn('id_type', \n",
    "                                  when(\n",
    "                                      col('so_uuid').rlike('^idfa'), lit('idfa')\n",
    "                                  )\\\n",
    "                                  .when(\n",
    "                                      col('so_uuid').rlike('^anid'), lit('anid')\n",
    "                                  )\\\n",
    "                                  .otherwise(lit('cookie'))\n",
    "                                )\\\n",
    "                    .drop('so_uuid')`"
   ]
  },
  {
   "cell_type": "code",
   "execution_count": 17,
   "metadata": {},
   "outputs": [
    {
     "data": {
      "application/javascript": [
       "\n",
       "            setTimeout(function() {\n",
       "                var nbb_cell_id = 17;\n",
       "                var nbb_unformatted_code = \"# idfa\\u3068anid\\u3092\\u5168\\u3066\\u7a7a\\u767d\\u306b\\u304b\\u3048\\u308b\\u30e9\\u30e0\\u30c0\\u5f0f\\ncut_id_type = lambda x: re.sub(\\\"(idfa:|anid:)\\\", \\\"\\\", x)\";\n",
       "                var nbb_formatted_code = \"# idfa\\u3068anid\\u3092\\u5168\\u3066\\u7a7a\\u767d\\u306b\\u304b\\u3048\\u308b\\u30e9\\u30e0\\u30c0\\u5f0f\\ncut_id_type = lambda x: re.sub(\\\"(idfa:|anid:)\\\", \\\"\\\", x)\";\n",
       "                var nbb_cells = Jupyter.notebook.get_cells();\n",
       "                for (var i = 0; i < nbb_cells.length; ++i) {\n",
       "                    if (nbb_cells[i].input_prompt_number == nbb_cell_id) {\n",
       "                        if (nbb_cells[i].get_text() == nbb_unformatted_code) {\n",
       "                             nbb_cells[i].set_text(nbb_formatted_code);\n",
       "                        }\n",
       "                        break;\n",
       "                    }\n",
       "                }\n",
       "            }, 500);\n",
       "            "
      ],
      "text/plain": [
       "<IPython.core.display.Javascript object>"
      ]
     },
     "metadata": {},
     "output_type": "display_data"
    }
   ],
   "source": [
    "# idfaとanidを全て空白にかえるラムダ式\n",
    "cut_id_type = lambda x: re.sub(\"(idfa:|anid:)\", \"\", x)"
   ]
  },
  {
   "cell_type": "code",
   "execution_count": 18,
   "metadata": {},
   "outputs": [
    {
     "data": {
      "application/javascript": [
       "\n",
       "            setTimeout(function() {\n",
       "                var nbb_cell_id = 18;\n",
       "                var nbb_unformatted_code = \"# \\u30ab\\u30e9\\u30e0\\u540d\\u3092\\u5909\\u66f4\\nseed_df = df_posi.rename(columns={\\\"user_id\\\": \\\"uuid\\\"})\\n\\n# \\u5b9a\\u5024cookie\\u304c\\u5165\\u3063\\u305fid_type\\u30ab\\u30e9\\u30e0\\u3092\\u4f5c\\u6210\\nseed_df[\\\"id_type\\\"] = \\\"cookie\\\"\\n\\n# so_uuid\\u5217\\u3092\\u8907\\u88fd\\nseed_df[\\\"so_uuid\\\"] = seed_df[\\\"uuid\\\"]\\n\\n# uuid\\u304b\\u3089idfa\\u3068anid\\u306e\\u5192\\u982d\\u3092\\u524a\\u9664\\nseed_df[\\\"uuid\\\"] = seed_df[\\\"uuid\\\"].map(cut_id_type)\\n\\n# \\u8907\\u88fd\\u3057\\u3066\\u304a\\u3044\\u305fuuid\\u304b\\u3089idfa, anid, cookie\\u3067idtype\\u3092\\u5272\\u308a\\u632f\\u308b\\nseed_df.loc[seed_df[\\\"so_uuid\\\"].str.contains(\\\"^idfa\\\"), \\\"id_type\\\"] = \\\"idfa\\\"\\nseed_df.loc[seed_df[\\\"so_uuid\\\"].str.contains(\\\"^anid\\\"), \\\"id_type\\\"] = \\\"anid\\\"\\nfortuna_df = seed_df[[\\\"uuid\\\", \\\"id_type\\\"]]\";\n",
       "                var nbb_formatted_code = \"# \\u30ab\\u30e9\\u30e0\\u540d\\u3092\\u5909\\u66f4\\nseed_df = df_posi.rename(columns={\\\"user_id\\\": \\\"uuid\\\"})\\n\\n# \\u5b9a\\u5024cookie\\u304c\\u5165\\u3063\\u305fid_type\\u30ab\\u30e9\\u30e0\\u3092\\u4f5c\\u6210\\nseed_df[\\\"id_type\\\"] = \\\"cookie\\\"\\n\\n# so_uuid\\u5217\\u3092\\u8907\\u88fd\\nseed_df[\\\"so_uuid\\\"] = seed_df[\\\"uuid\\\"]\\n\\n# uuid\\u304b\\u3089idfa\\u3068anid\\u306e\\u5192\\u982d\\u3092\\u524a\\u9664\\nseed_df[\\\"uuid\\\"] = seed_df[\\\"uuid\\\"].map(cut_id_type)\\n\\n# \\u8907\\u88fd\\u3057\\u3066\\u304a\\u3044\\u305fuuid\\u304b\\u3089idfa, anid, cookie\\u3067idtype\\u3092\\u5272\\u308a\\u632f\\u308b\\nseed_df.loc[seed_df[\\\"so_uuid\\\"].str.contains(\\\"^idfa\\\"), \\\"id_type\\\"] = \\\"idfa\\\"\\nseed_df.loc[seed_df[\\\"so_uuid\\\"].str.contains(\\\"^anid\\\"), \\\"id_type\\\"] = \\\"anid\\\"\\nfortuna_df = seed_df[[\\\"uuid\\\", \\\"id_type\\\"]]\";\n",
       "                var nbb_cells = Jupyter.notebook.get_cells();\n",
       "                for (var i = 0; i < nbb_cells.length; ++i) {\n",
       "                    if (nbb_cells[i].input_prompt_number == nbb_cell_id) {\n",
       "                        if (nbb_cells[i].get_text() == nbb_unformatted_code) {\n",
       "                             nbb_cells[i].set_text(nbb_formatted_code);\n",
       "                        }\n",
       "                        break;\n",
       "                    }\n",
       "                }\n",
       "            }, 500);\n",
       "            "
      ],
      "text/plain": [
       "<IPython.core.display.Javascript object>"
      ]
     },
     "metadata": {},
     "output_type": "display_data"
    }
   ],
   "source": [
    "# カラム名を変更\n",
    "seed_df = df_posi.rename(columns={\"user_id\": \"uuid\"})\n",
    "\n",
    "# 定値cookieが入ったid_typeカラムを作成\n",
    "seed_df[\"id_type\"] = \"cookie\"\n",
    "\n",
    "# so_uuid列を複製\n",
    "seed_df[\"so_uuid\"] = seed_df[\"uuid\"]\n",
    "\n",
    "# uuidからidfaとanidの冒頭を削除\n",
    "seed_df[\"uuid\"] = seed_df[\"uuid\"].map(cut_id_type)\n",
    "\n",
    "# 複製しておいたuuidからidfa, anid, cookieでidtypeを割り振る\n",
    "seed_df.loc[seed_df[\"so_uuid\"].str.contains(\"^idfa\"), \"id_type\"] = \"idfa\"\n",
    "seed_df.loc[seed_df[\"so_uuid\"].str.contains(\"^anid\"), \"id_type\"] = \"anid\"\n",
    "fortuna_df = seed_df[[\"uuid\", \"id_type\"]]"
   ]
  },
  {
   "cell_type": "code",
   "execution_count": 19,
   "metadata": {},
   "outputs": [
    {
     "data": {
      "text/html": [
       "<div>\n",
       "<style scoped>\n",
       "    .dataframe tbody tr th:only-of-type {\n",
       "        vertical-align: middle;\n",
       "    }\n",
       "\n",
       "    .dataframe tbody tr th {\n",
       "        vertical-align: top;\n",
       "    }\n",
       "\n",
       "    .dataframe thead th {\n",
       "        text-align: right;\n",
       "    }\n",
       "</style>\n",
       "<table border=\"1\" class=\"dataframe\">\n",
       "  <thead>\n",
       "    <tr style=\"text-align: right;\">\n",
       "      <th></th>\n",
       "      <th>uuid</th>\n",
       "      <th>id_type</th>\n",
       "    </tr>\n",
       "  </thead>\n",
       "  <tbody>\n",
       "    <tr>\n",
       "      <th>0</th>\n",
       "      <td>XGe528Co8XMAAvZcO5AAAAAA</td>\n",
       "      <td>cookie</td>\n",
       "    </tr>\n",
       "    <tr>\n",
       "      <th>11</th>\n",
       "      <td>Xkz1Q8Co5sMAAH4CtyQAAAAA</td>\n",
       "      <td>cookie</td>\n",
       "    </tr>\n",
       "    <tr>\n",
       "      <th>12</th>\n",
       "      <td>XJcyoMCo5g8AAE0rY9cAAAAA</td>\n",
       "      <td>cookie</td>\n",
       "    </tr>\n",
       "    <tr>\n",
       "      <th>17</th>\n",
       "      <td>W-JU3MCo4U4AAEaBNiYAAAAA</td>\n",
       "      <td>cookie</td>\n",
       "    </tr>\n",
       "    <tr>\n",
       "      <th>18</th>\n",
       "      <td>XR8yKcCo5l4AACRJ3NoAAAAA</td>\n",
       "      <td>cookie</td>\n",
       "    </tr>\n",
       "  </tbody>\n",
       "</table>\n",
       "</div>"
      ],
      "text/plain": [
       "                        uuid id_type\n",
       "0   XGe528Co8XMAAvZcO5AAAAAA  cookie\n",
       "11  Xkz1Q8Co5sMAAH4CtyQAAAAA  cookie\n",
       "12  XJcyoMCo5g8AAE0rY9cAAAAA  cookie\n",
       "17  W-JU3MCo4U4AAEaBNiYAAAAA  cookie\n",
       "18  XR8yKcCo5l4AACRJ3NoAAAAA  cookie"
      ]
     },
     "execution_count": 19,
     "metadata": {},
     "output_type": "execute_result"
    },
    {
     "data": {
      "application/javascript": [
       "\n",
       "            setTimeout(function() {\n",
       "                var nbb_cell_id = 19;\n",
       "                var nbb_unformatted_code = \"# \\u78ba\\u8a8d\\nfortuna_df.head()\";\n",
       "                var nbb_formatted_code = \"# \\u78ba\\u8a8d\\nfortuna_df.head()\";\n",
       "                var nbb_cells = Jupyter.notebook.get_cells();\n",
       "                for (var i = 0; i < nbb_cells.length; ++i) {\n",
       "                    if (nbb_cells[i].input_prompt_number == nbb_cell_id) {\n",
       "                        if (nbb_cells[i].get_text() == nbb_unformatted_code) {\n",
       "                             nbb_cells[i].set_text(nbb_formatted_code);\n",
       "                        }\n",
       "                        break;\n",
       "                    }\n",
       "                }\n",
       "            }, 500);\n",
       "            "
      ],
      "text/plain": [
       "<IPython.core.display.Javascript object>"
      ]
     },
     "metadata": {},
     "output_type": "display_data"
    }
   ],
   "source": [
    "# 確認\n",
    "fortuna_df.head()"
   ]
  },
  {
   "cell_type": "code",
   "execution_count": 20,
   "metadata": {},
   "outputs": [
    {
     "data": {
      "text/plain": [
       "1236"
      ]
     },
     "execution_count": 20,
     "metadata": {},
     "output_type": "execute_result"
    },
    {
     "data": {
      "application/javascript": [
       "\n",
       "            setTimeout(function() {\n",
       "                var nbb_cell_id = 20;\n",
       "                var nbb_unformatted_code = \"len(fortuna_df)\";\n",
       "                var nbb_formatted_code = \"len(fortuna_df)\";\n",
       "                var nbb_cells = Jupyter.notebook.get_cells();\n",
       "                for (var i = 0; i < nbb_cells.length; ++i) {\n",
       "                    if (nbb_cells[i].input_prompt_number == nbb_cell_id) {\n",
       "                        if (nbb_cells[i].get_text() == nbb_unformatted_code) {\n",
       "                             nbb_cells[i].set_text(nbb_formatted_code);\n",
       "                        }\n",
       "                        break;\n",
       "                    }\n",
       "                }\n",
       "            }, 500);\n",
       "            "
      ],
      "text/plain": [
       "<IPython.core.display.Javascript object>"
      ]
     },
     "metadata": {},
     "output_type": "display_data"
    }
   ],
   "source": [
    "len(fortuna_df)"
   ]
  },
  {
   "cell_type": "code",
   "execution_count": 21,
   "metadata": {},
   "outputs": [
    {
     "data": {
      "text/plain": [
       "1171"
      ]
     },
     "execution_count": 21,
     "metadata": {},
     "output_type": "execute_result"
    },
    {
     "data": {
      "application/javascript": [
       "\n",
       "            setTimeout(function() {\n",
       "                var nbb_cell_id = 21;\n",
       "                var nbb_unformatted_code = \"len(fortuna_df[~fortuna_df.duplicated()])\";\n",
       "                var nbb_formatted_code = \"len(fortuna_df[~fortuna_df.duplicated()])\";\n",
       "                var nbb_cells = Jupyter.notebook.get_cells();\n",
       "                for (var i = 0; i < nbb_cells.length; ++i) {\n",
       "                    if (nbb_cells[i].input_prompt_number == nbb_cell_id) {\n",
       "                        if (nbb_cells[i].get_text() == nbb_unformatted_code) {\n",
       "                             nbb_cells[i].set_text(nbb_formatted_code);\n",
       "                        }\n",
       "                        break;\n",
       "                    }\n",
       "                }\n",
       "            }, 500);\n",
       "            "
      ],
      "text/plain": [
       "<IPython.core.display.Javascript object>"
      ]
     },
     "metadata": {},
     "output_type": "display_data"
    }
   ],
   "source": [
    "len(fortuna_df[~fortuna_df.duplicated()])"
   ]
  },
  {
   "cell_type": "markdown",
   "metadata": {},
   "source": [
    "* spark code\n",
    "\n",
    "`path = 's3://svc-analytics-workfiles/supership/kengo.suzuki/offline_validation/for_fortuna/cl20200318_20200417.csv'\n",
    "fortuna_df.distinct().coalesce(1).write.mode('overwrite').csv(path, header=False, sep=',')`"
   ]
  },
  {
   "cell_type": "code",
   "execution_count": 22,
   "metadata": {},
   "outputs": [
    {
     "data": {
      "application/javascript": [
       "\n",
       "            setTimeout(function() {\n",
       "                var nbb_cell_id = 22;\n",
       "                var nbb_unformatted_code = \"# \\u91cd\\u8907\\u884c\\u3092\\u524a\\u9664\\u3057\\u3066\\u51fa\\u529b\\u3059\\u308b\\u3002\\nfortuna_df.to_csv(\\\"../data/fortuna_df.csv\\\", encoding=\\\"shift-jis\\\", index=False)\";\n",
       "                var nbb_formatted_code = \"# \\u91cd\\u8907\\u884c\\u3092\\u524a\\u9664\\u3057\\u3066\\u51fa\\u529b\\u3059\\u308b\\u3002\\nfortuna_df.to_csv(\\\"../data/fortuna_df.csv\\\", encoding=\\\"shift-jis\\\", index=False)\";\n",
       "                var nbb_cells = Jupyter.notebook.get_cells();\n",
       "                for (var i = 0; i < nbb_cells.length; ++i) {\n",
       "                    if (nbb_cells[i].input_prompt_number == nbb_cell_id) {\n",
       "                        if (nbb_cells[i].get_text() == nbb_unformatted_code) {\n",
       "                             nbb_cells[i].set_text(nbb_formatted_code);\n",
       "                        }\n",
       "                        break;\n",
       "                    }\n",
       "                }\n",
       "            }, 500);\n",
       "            "
      ],
      "text/plain": [
       "<IPython.core.display.Javascript object>"
      ]
     },
     "metadata": {},
     "output_type": "display_data"
    }
   ],
   "source": [
    "# 重複行を削除して出力する。\n",
    "fortuna_df.to_csv(\"../data/fortuna_df.csv\", encoding=\"shift-jis\", index=False)"
   ]
  },
  {
   "cell_type": "markdown",
   "metadata": {},
   "source": [
    "# 確認"
   ]
  },
  {
   "cell_type": "code",
   "execution_count": 23,
   "metadata": {},
   "outputs": [
    {
     "data": {
      "text/plain": [
       "1264"
      ]
     },
     "execution_count": 23,
     "metadata": {},
     "output_type": "execute_result"
    },
    {
     "data": {
      "application/javascript": [
       "\n",
       "            setTimeout(function() {\n",
       "                var nbb_cell_id = 23;\n",
       "                var nbb_unformatted_code = \"len(df[df[\\\"action\\\"].isin([\\\"click\\\", \\\"click_cv\\\"])])\";\n",
       "                var nbb_formatted_code = \"len(df[df[\\\"action\\\"].isin([\\\"click\\\", \\\"click_cv\\\"])])\";\n",
       "                var nbb_cells = Jupyter.notebook.get_cells();\n",
       "                for (var i = 0; i < nbb_cells.length; ++i) {\n",
       "                    if (nbb_cells[i].input_prompt_number == nbb_cell_id) {\n",
       "                        if (nbb_cells[i].get_text() == nbb_unformatted_code) {\n",
       "                             nbb_cells[i].set_text(nbb_formatted_code);\n",
       "                        }\n",
       "                        break;\n",
       "                    }\n",
       "                }\n",
       "            }, 500);\n",
       "            "
      ],
      "text/plain": [
       "<IPython.core.display.Javascript object>"
      ]
     },
     "metadata": {},
     "output_type": "display_data"
    }
   ],
   "source": [
    "len(df[df[\"action\"].isin([\"click\", \"click_cv\"])])"
   ]
  },
  {
   "cell_type": "code",
   "execution_count": 24,
   "metadata": {},
   "outputs": [
    {
     "data": {
      "text/plain": [
       "1257"
      ]
     },
     "execution_count": 24,
     "metadata": {},
     "output_type": "execute_result"
    },
    {
     "data": {
      "application/javascript": [
       "\n",
       "            setTimeout(function() {\n",
       "                var nbb_cell_id = 24;\n",
       "                var nbb_unformatted_code = \"len(df[df[\\\"action\\\"].isin([\\\"click\\\"])])\";\n",
       "                var nbb_formatted_code = \"len(df[df[\\\"action\\\"].isin([\\\"click\\\"])])\";\n",
       "                var nbb_cells = Jupyter.notebook.get_cells();\n",
       "                for (var i = 0; i < nbb_cells.length; ++i) {\n",
       "                    if (nbb_cells[i].input_prompt_number == nbb_cell_id) {\n",
       "                        if (nbb_cells[i].get_text() == nbb_unformatted_code) {\n",
       "                             nbb_cells[i].set_text(nbb_formatted_code);\n",
       "                        }\n",
       "                        break;\n",
       "                    }\n",
       "                }\n",
       "            }, 500);\n",
       "            "
      ],
      "text/plain": [
       "<IPython.core.display.Javascript object>"
      ]
     },
     "metadata": {},
     "output_type": "display_data"
    }
   ],
   "source": [
    "len(df[df[\"action\"].isin([\"click\"])])"
   ]
  },
  {
   "cell_type": "code",
   "execution_count": null,
   "metadata": {},
   "outputs": [],
   "source": []
  }
 ],
 "metadata": {
  "kernelspec": {
   "display_name": "Python 3",
   "language": "python",
   "name": "python3"
  },
  "language_info": {
   "codemirror_mode": {
    "name": "ipython",
    "version": 3
   },
   "file_extension": ".py",
   "mimetype": "text/x-python",
   "name": "python",
   "nbconvert_exporter": "python",
   "pygments_lexer": "ipython3",
   "version": "3.7.3"
  }
 },
 "nbformat": 4,
 "nbformat_minor": 2
}
